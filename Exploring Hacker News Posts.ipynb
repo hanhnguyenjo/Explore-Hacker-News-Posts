{
 "cells": [
  {
   "cell_type": "markdown",
   "metadata": {
    "collapsed": true
   },
   "source": [
    "# Exploring Hacker News Posts"
   ]
  },
  {
   "cell_type": "markdown",
   "metadata": {},
   "source": [
    "The objective of this project is to determine if time is a potential factor that is attached to the amount of comments on a post on the Hacker News website. Hacker News is extremely popular in technology and startup circles, and posts that make it to the top of Hacker News' listings can get hundreds of thousands of visitors as a result."
   ]
  },
  {
   "cell_type": "code",
   "execution_count": 1,
   "metadata": {
    "collapsed": false
   },
   "outputs": [
    {
     "name": "stdout",
     "output_type": "stream",
     "text": [
      "[['id', 'title', 'url', 'num_points', 'num_comments', 'author', 'created_at'], ['12224879', 'Interactive Dynamic Video', 'http://www.interactivedynamicvideo.com/', '386', '52', 'ne0phyte', '8/4/2016 11:52'], ['10975351', 'How to Use Open Source and Shut the Fuck Up at the Same Time', 'http://hueniverse.com/2016/01/26/how-to-use-open-source-and-shut-the-fuck-up-at-the-same-time/', '39', '10', 'josep2', '1/26/2016 19:30'], ['11964716', \"Florida DJs May Face Felony for April Fools' Water Joke\", 'http://www.thewire.com/entertainment/2013/04/florida-djs-april-fools-water-joke/63798/', '2', '1', 'vezycash', '6/23/2016 22:20'], ['11919867', 'Technology ventures: From Idea to Enterprise', 'https://www.amazon.com/Technology-Ventures-Enterprise-Thomas-Byers/dp/0073523429', '3', '1', 'hswarna', '6/17/2016 0:01']]\n"
     ]
    }
   ],
   "source": [
    "from csv import reader\n",
    "opened_file=open('hacker_news.csv', encoding='utf-8')\n",
    "read_file=reader(opened_file)\n",
    "hn=list(read_file)\n",
    "print(hn[:5])"
   ]
  },
  {
   "cell_type": "code",
   "execution_count": 2,
   "metadata": {
    "collapsed": false
   },
   "outputs": [
    {
     "name": "stdout",
     "output_type": "stream",
     "text": [
      "Headers of the dataset:\n",
      "['id', 'title', 'url', 'num_points', 'num_comments', 'author', 'created_at']\n"
     ]
    }
   ],
   "source": [
    "headers=hn[0]\n",
    "hn=hn[1:]\n",
    "print('Headers of the dataset:')\n",
    "print(headers)\n",
    "print('The dataset after removing headers:')\n",
    "print(hn[:5])"
   ]
  },
  {
   "cell_type": "markdown",
   "metadata": {},
   "source": [
    "Now that we've removed the headers from the dataset, we're ready to filter our data."
   ]
  },
  {
   "cell_type": "code",
   "execution_count": 4,
   "metadata": {
    "collapsed": true
   },
   "outputs": [],
   "source": [
    "# Extract the ASK HN posts and SHOW HN posts\n",
    "ask_posts=[]\n",
    "show_posts=[]\n",
    "other_posts=[]\n",
    "\n",
    "for row in hn:\n",
    "    title=row[1].lower()\n",
    "    if title.startswith('ask hn'):\n",
    "        ask_posts.append(row)\n",
    "    elif title.startswith('show hn'):\n",
    "        show_posts.append(row)\n",
    "    else:\n",
    "        other_posts.append(row)\n",
    "        \n",
    "print('Number of posts in \"ask_posts\":', len(ask_posts))\n",
    "print('Number of posts in \"show_posts\":', len(show_posts))\n",
    "print('Number of posts in \"other_posts\":', len(other_posts))\n",
    "print('Number of posts in the dataset:', len(hn))\n",
    "print(len(ask_posts)+len(show_posts)+len(other_posts))"
   ]
  },
  {
   "cell_type": "markdown",
   "metadata": {},
   "source": [
    "## Calculating the average number of comments for Ask HN and Show HN posts"
   ]
  },
  {
   "cell_type": "markdown",
   "metadata": {},
   "source": [
    "Determine if ask posts or show posts receive more comments on average"
   ]
  },
  {
   "cell_type": "code",
   "execution_count": 6,
   "metadata": {
    "collapsed": false
   },
   "outputs": [
    {
     "name": "stdout",
     "output_type": "stream",
     "text": [
      "Total number of comments in ask posts: 24,483\n",
      "Average number of comments in ask posts: 14.04\n"
     ]
    }
   ],
   "source": [
    "# Find the total number of comments in ask posts and assign it to `total_ask_comments`\n",
    "total_ask_comments=0\n",
    "for row in ask_posts:\n",
    "    nb_comments=int(row[4])\n",
    "    total_ask_comments+=nb_comments\n",
    "avg_ask_comments=total_ask_comments/len(ask_posts)\n",
    "print('Total number of comments in ask posts:',\"{:,}\".format(total_ask_comments))\n",
    "print('Average number of comments in ask posts:',\"{:,.2f}\".format(avg_ask_comments))"
   ]
  },
  {
   "cell_type": "code",
   "execution_count": 7,
   "metadata": {
    "collapsed": false
   },
   "outputs": [
    {
     "name": "stdout",
     "output_type": "stream",
     "text": [
      "Total number of comments in show posts: 11,988\n",
      "Average number of comments in show posts: 10.32\n"
     ]
    }
   ],
   "source": [
    "# Find the total number of comments in show posts and assign it to `total_show_posts`\n",
    "\n",
    "total_show_comments=0\n",
    "\n",
    "for row in show_posts:\n",
    "    nb_comments=int(row[4])\n",
    "    total_show_comments+=nb_comments\n",
    "\n",
    "avg_show_comments=total_show_comments/len(show_posts)\n",
    "print('Total number of comments in show posts:',\"{:,}\".format(total_show_comments))\n",
    "print('Average number of comments in show posts:', \"{:,.2f}\".format(avg_show_comments))"
   ]
  },
  {
   "cell_type": "markdown",
   "metadata": {},
   "source": [
    "According to the results shown above, ask posts receive more comments on average. Even though the gap between the number of posts in ask posts and show posts isn't wide, the total number of comments in the 2 datasets are very different from one another. Ask posts are more likely to receive comments. For now, we will focus on these posts. "
   ]
  },
  {
   "cell_type": "markdown",
   "metadata": {},
   "source": [
    "## The amount of ask posts and comments by hour created"
   ]
  },
  {
   "cell_type": "markdown",
   "metadata": {},
   "source": [
    "Next, we'll determine if ask posts created at a certain time are more likely to attract comments."
   ]
  },
  {
   "cell_type": "code",
   "execution_count": 16,
   "metadata": {
    "collapsed": false
   },
   "outputs": [
    {
     "data": {
      "text/plain": [
       "{'00': 447,\n",
       " '01': 683,\n",
       " '02': 1381,\n",
       " '03': 421,\n",
       " '04': 337,\n",
       " '05': 464,\n",
       " '06': 397,\n",
       " '07': 267,\n",
       " '08': 492,\n",
       " '09': 251,\n",
       " '10': 793,\n",
       " '11': 641,\n",
       " '12': 687,\n",
       " '13': 1253,\n",
       " '14': 1416,\n",
       " '15': 4477,\n",
       " '16': 1814,\n",
       " '17': 1146,\n",
       " '18': 1439,\n",
       " '19': 1188,\n",
       " '20': 1722,\n",
       " '21': 1745,\n",
       " '22': 479,\n",
       " '23': 543}"
      ]
     },
     "execution_count": 16,
     "metadata": {},
     "output_type": "execute_result"
    }
   ],
   "source": [
    "import datetime as dt\n",
    "result_list=[]\n",
    "for row in ask_posts:\n",
    "    created_at=row[6]\n",
    "    nb_comments=int(row[4])\n",
    "    result_list.append([created_at,nb_comments])\n",
    "\n",
    "counts_by_hour={} # Number of ask posts created during each hour of the day\n",
    "comments_by_hour={} # Number of comments created on ask posts at each hour.\n",
    "\n",
    "for row in result_list:\n",
    "    date_str=row[0]\n",
    "    nb_comments=row[1]\n",
    "    date_dt=dt.datetime.strptime(date_str,\"%m/%d/%Y %H:%M\")\n",
    "    hour_str=date_dt.strftime(\"%H\")\n",
    "    \n",
    "    if hour_str in counts_by_hour:\n",
    "        counts_by_hour[hour_str]+=1\n",
    "        comments_by_hour[hour_str]+=nb_comments\n",
    "    else:\n",
    "        counts_by_hour[hour_str]=1\n",
    "        comments_by_hour[hour_str]=nb_comments\n",
    "comments_by_hour"
   ]
  },
  {
   "cell_type": "code",
   "execution_count": 15,
   "metadata": {
    "collapsed": false
   },
   "outputs": [
    {
     "name": "stdout",
     "output_type": "stream",
     "text": [
      "Top 5 Hours for Ask Posts Comments:\n",
      "15:00 : 38.59  average comments per post\n",
      "02:00 : 23.81  average comments per post\n",
      "20:00 : 21.52  average comments per post\n",
      "16:00 : 16.80  average comments per post\n",
      "21:00 : 16.01  average comments per post\n"
     ]
    }
   ],
   "source": [
    "avg_by_hour=[]\n",
    "for hour in counts_by_hour:\n",
    "    avg_by_hour.append([hour, comments_by_hour[hour]/counts_by_hour[hour]])\n",
    "\n",
    "swap_avg_by_hour=[]\n",
    "for row in avg_by_hour:\n",
    "    swap_avg_by_hour.append([row[1],row[0]])\n",
    "    \n",
    "sorted_swap=sorted(swap_avg_by_hour, reverse=True)\n",
    "print('Top 5 Hours for Ask Posts Comments:')\n",
    "for elem in sorted_swap[:5]:\n",
    "    hour=dt.datetime.strptime(elem[1],\"%H\").strftime(\"%H:00\")\n",
    "    avg_cmt=\"{:.2f}\".format(elem[0])\n",
    "    print(hour,':',avg_cmt, ' average comments per post')"
   ]
  },
  {
   "cell_type": "markdown",
   "metadata": {},
   "source": [
    "From the results, we can conclude that we should create a post at 3PM to have the highest chance of receiving comments. Posts that are made at `02:00`, `20:00`, `16:00`, `21:00` also have high average comments per post."
   ]
  }
 ],
 "metadata": {
  "kernelspec": {
   "display_name": "Python 3",
   "language": "python",
   "name": "python3"
  },
  "language_info": {
   "codemirror_mode": {
    "name": "ipython",
    "version": 3
   },
   "file_extension": ".py",
   "mimetype": "text/x-python",
   "name": "python",
   "nbconvert_exporter": "python",
   "pygments_lexer": "ipython3",
   "version": "3.4.3"
  }
 },
 "nbformat": 4,
 "nbformat_minor": 2
}
